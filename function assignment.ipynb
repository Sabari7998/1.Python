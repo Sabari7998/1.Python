{
 "cells": [
  {
   "cell_type": "code",
   "execution_count": 380,
   "id": "ae6a1aba-a2f6-42cd-8ece-2ac036d5f677",
   "metadata": {},
   "outputs": [
    {
     "name": "stdin",
     "output_type": "stream",
     "text": [
      "Enter a number: 20\n"
     ]
    },
    {
     "name": "stdout",
     "output_type": "stream",
     "text": [
      "20 number is even\n"
     ]
    }
   ],
   "source": [
    "class ODDEVEN():\n",
    "    def oddeven():\n",
    "        num=int(input(\"Enter a number:\"))\n",
    "        if(num %2==0):\n",
    "            print(num,\"number is even\")\n",
    "            msg=\"number is even\"\n",
    "        else:\n",
    "            print(num,\"number is odd\")\n",
    "            msg=\"number is odd\"\n",
    "        return msg\n",
    "    check=oddeven()"
   ]
  },
  {
   "cell_type": "code",
   "execution_count": 382,
   "id": "bdf12230-9ae2-46a9-a36e-792b502b5779",
   "metadata": {},
   "outputs": [
    {
     "name": "stdout",
     "output_type": "stream",
     "text": [
      "The given number is even\n"
     ]
    }
   ],
   "source": [
    "if(check ==\"number is even\"):\n",
    "    print(\"The given number is even\")\n",
    "else:\n",
    "     print(\"The given number is odd\")"
   ]
  },
  {
   "cell_type": "code",
   "execution_count": 179,
   "id": "e6c7fdec-9695-4a9f-9ebb-0ab209e0d6ec",
   "metadata": {
    "scrolled": true
   },
   "outputs": [
    {
     "name": "stdin",
     "output_type": "stream",
     "text": [
      "enter your gender male or female: male\n",
      "enter your age: 25\n"
     ]
    },
    {
     "name": "stdout",
     "output_type": "stream",
     "text": [
      "you are eligible for marriage\n"
     ]
    }
   ],
   "source": [
    "class Elegible():\n",
    "    def marriage():\n",
    "        gender=input(\"enter your gender male or female:\")\n",
    "        age=int(input(\"enter your age:\"))\n",
    "        if(gender==\"male\" and age>21):\n",
    "            print(\"you are eligible for marriage\")\n",
    "            msg=\"you are eligible for marriage\"\n",
    "        elif(gender==\"female\" and age>18):\n",
    "            print(\"you are eligible for marriage\")\n",
    "            msg=\"you are eligible for marriage\"\n",
    "        else:\n",
    "            print(\"you are not eligible for marriage\") \n",
    "            msg=\"you are not eligible for marriage\"\n",
    "        return msg\n",
    "    ElegiblityForMarriage=marriage()"
   ]
  },
  {
   "cell_type": "code",
   "execution_count": 175,
   "id": "258d5421-2147-4062-ad4e-8c0771a2990a",
   "metadata": {
    "scrolled": true
   },
   "outputs": [
    {
     "name": "stdout",
     "output_type": "stream",
     "text": [
      "you are eligible for marriage\n"
     ]
    }
   ],
   "source": [
    "print(ElegiblityForMarriage)"
   ]
  },
  {
   "cell_type": "code",
   "execution_count": 328,
   "id": "6de3d939-cffd-4d16-89cc-0255a10b9f5a",
   "metadata": {},
   "outputs": [
    {
     "name": "stdin",
     "output_type": "stream",
     "text": [
      "subject1: 98\n",
      "subject2: 89\n",
      "subject3: 79\n",
      "subject4: 98\n",
      "subject5: 89\n"
     ]
    },
    {
     "name": "stdout",
     "output_type": "stream",
     "text": [
      "total: 453\n",
      "percent: 90.6\n"
     ]
    }
   ],
   "source": [
    "class FindPercent():\n",
    "    def percentage():\n",
    "            sub1=int(input(\"subject1:\"))\n",
    "            sub2=int(input(\"subject2:\"))\n",
    "            sub3=int(input(\"subject3:\"))\n",
    "            sub4=int(input(\"subject4:\"))\n",
    "            sub5=int(input(\"subject5:\"))\n",
    "            total=(sub1+sub2+sub3+sub4+sub5)\n",
    "            percent=(total)/5\n",
    "            print(\"total:\",total)\n",
    "            print(\"percent:\",percent)\n",
    "    percentage()  "
   ]
  },
  {
   "cell_type": "code",
   "execution_count": 332,
   "id": "84417195-1300-4059-954c-da420901d2a4",
   "metadata": {},
   "outputs": [
    {
     "name": "stdout",
     "output_type": "stream",
     "text": [
      "Sub-fields in AI are:\n",
      "Machine Learning\n",
      "Neural Networks\n",
      "Vision\n",
      "Robotics\n",
      "Speech Processing\n",
      "Natural Language Processing\n"
     ]
    }
   ],
   "source": [
    "class SubfieldsInAI():\n",
    "    def Subfields():\n",
    "        print(\"Sub-fields in AI are:\")\n",
    "        print(\"Machine Learning\")\n",
    "        print(\"Neural Networks\")\n",
    "        print(\"Vision\")\n",
    "        print(\"Robotics\")\n",
    "        print(\"Speech Processing\")\n",
    "        print(\"Natural Language Processing\")\n",
    "    Subfields()"
   ]
  },
  {
   "cell_type": "code",
   "execution_count": 384,
   "id": "eb9887d3-eb2b-43b9-abe7-34665236ea1a",
   "metadata": {},
   "outputs": [
    {
     "name": "stdin",
     "output_type": "stream",
     "text": [
      "Enter your age: 20\n"
     ]
    },
    {
     "name": "stdout",
     "output_type": "stream",
     "text": [
      "adult\n"
     ]
    }
   ],
   "source": [
    "class test():\n",
    "    def agefunction():\n",
    "        age=int(input(\"Enter your age:\"))\n",
    "        if(age<15):\n",
    "            print(\"children\")\n",
    "            variable=\"children\"\n",
    "        elif(age<25):\n",
    "            print(\"adult\")\n",
    "            variable=\"adult\"\n",
    "        elif(age<35):\n",
    "            print(\"citizen\")\n",
    "            variable=\"citizen\"\n",
    "        else:\n",
    "            print(\"senior citizen\")\n",
    "            variable=\"senior citizen\"\n",
    "        return variable\n",
    "    def addition():\n",
    "        a=int(input(\"enter first value:\"))\n",
    "        b=int(input(\"enter second value:\"))\n",
    "        add=a+b\n",
    "        print(add)\n",
    "        return add\n",
    "    def subtraction():\n",
    "        a=int(input(\"enter first value:\"))\n",
    "        b=int(input(\"enter second value:\"))\n",
    "        sub=a-b\n",
    "        print(sub)\n",
    "        return sub\n",
    "    def multiply():\n",
    "        a=int(input(\"enter first value:\"))\n",
    "        b=int(input(\"enter second value:\"))\n",
    "        mul=a*b\n",
    "        print(mul)\n",
    "        return mul"
   ]
  },
  {
   "cell_type": "code",
   "execution_count": 386,
   "id": "0fddea22-d48e-4477-9c7c-8cdf90ab0557",
   "metadata": {},
   "outputs": [
    {
     "name": "stdin",
     "output_type": "stream",
     "text": [
      "Enter your age: 25\n"
     ]
    },
    {
     "name": "stdout",
     "output_type": "stream",
     "text": [
      "citizen\n"
     ]
    }
   ],
   "source": [
    "result1=test.agefunction()"
   ]
  },
  {
   "cell_type": "code",
   "execution_count": 370,
   "id": "e96a1ec5-91b6-470d-bf73-a33f287ead60",
   "metadata": {},
   "outputs": [
    {
     "name": "stdin",
     "output_type": "stream",
     "text": [
      "enter first value: 10\n",
      "enter second value: 20\n"
     ]
    },
    {
     "name": "stdout",
     "output_type": "stream",
     "text": [
      "30\n"
     ]
    }
   ],
   "source": [
    "result2=test.addition()"
   ]
  },
  {
   "cell_type": "code",
   "execution_count": 372,
   "id": "60602e24-a76a-4b38-8aa0-ed06f9e95093",
   "metadata": {},
   "outputs": [
    {
     "name": "stdin",
     "output_type": "stream",
     "text": [
      "enter first value: 20\n",
      "enter second value: 10\n"
     ]
    },
    {
     "name": "stdout",
     "output_type": "stream",
     "text": [
      "10\n"
     ]
    }
   ],
   "source": [
    "result3=test.subtraction()"
   ]
  },
  {
   "cell_type": "code",
   "execution_count": 374,
   "id": "648a2fee-461d-46a4-b8c8-d13c184b46a1",
   "metadata": {},
   "outputs": [
    {
     "name": "stdin",
     "output_type": "stream",
     "text": [
      "enter first value: 5\n",
      "enter second value: 2\n"
     ]
    },
    {
     "name": "stdout",
     "output_type": "stream",
     "text": [
      "10\n"
     ]
    }
   ],
   "source": [
    "result4=test.multiply()"
   ]
  },
  {
   "cell_type": "code",
   "execution_count": null,
   "id": "7cd83250-9793-4dfd-a0d5-32ab9ae676a6",
   "metadata": {},
   "outputs": [],
   "source": []
  }
 ],
 "metadata": {
  "kernelspec": {
   "display_name": "Python 3 (ipykernel)",
   "language": "python",
   "name": "python3"
  },
  "language_info": {
   "codemirror_mode": {
    "name": "ipython",
    "version": 3
   },
   "file_extension": ".py",
   "mimetype": "text/x-python",
   "name": "python",
   "nbconvert_exporter": "python",
   "pygments_lexer": "ipython3",
   "version": "3.12.4"
  }
 },
 "nbformat": 4,
 "nbformat_minor": 5
}
