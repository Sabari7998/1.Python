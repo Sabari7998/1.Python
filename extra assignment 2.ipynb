{
 "cells": [
  {
   "cell_type": "code",
   "execution_count": 3,
   "id": "83b8f7e1-3630-4819-81f0-610ce26851ff",
   "metadata": {},
   "outputs": [
    {
     "name": "stdout",
     "output_type": "stream",
     "text": [
      "0\n",
      "1\n",
      "2\n",
      "3\n",
      "4\n",
      "5\n",
      "6\n",
      "7\n",
      "8\n",
      "9\n",
      "10\n",
      "11\n",
      "12\n",
      "13\n",
      "14\n",
      "15\n",
      "16\n",
      "17\n",
      "18\n",
      "19\n"
     ]
    }
   ],
   "source": [
    "for i in range (0,20):\n",
    "    print(i)"
   ]
  },
  {
   "cell_type": "code",
   "execution_count": 9,
   "id": "bdb04871-5279-494f-b635-0c17eb4c3214",
   "metadata": {},
   "outputs": [
    {
     "name": "stdout",
     "output_type": "stream",
     "text": [
      "10111213141516171819"
     ]
    }
   ],
   "source": [
    "for i in range (10,20):\n",
    "    print(i,end=\"\")"
   ]
  },
  {
   "cell_type": "code",
   "execution_count": 23,
   "id": "c61bcb46-ab41-4e6c-b926-ce550ca5f357",
   "metadata": {},
   "outputs": [
    {
     "name": "stdout",
     "output_type": "stream",
     "text": [
      "Number of item in list: 7\n"
     ]
    }
   ],
   "source": [
    "list=[10,20,30,40,50,60,70]\n",
    "count=len(list)\n",
    "print(\"Number of item in list:\",count)"
   ]
  },
  {
   "cell_type": "code",
   "execution_count": 21,
   "id": "694d8096-759e-471f-996d-52ba62505c7b",
   "metadata": {},
   "outputs": [
    {
     "name": "stdout",
     "output_type": "stream",
     "text": [
      "10\n",
      "20\n",
      "30\n",
      "40\n",
      "50\n",
      "60\n",
      "70\n"
     ]
    }
   ],
   "source": [
    "list=[10,20,30,40,50,60,70]\n",
    "for temp in list:\n",
    "    print(temp)"
   ]
  },
  {
   "cell_type": "code",
   "execution_count": 29,
   "id": "995b568e-e407-47d8-8a49-76ccba33d447",
   "metadata": {},
   "outputs": [
    {
     "name": "stdin",
     "output_type": "stream",
     "text": [
      "Enter your name: sabari\n",
      "Enter your age: 25\n",
      "Enter your profession: software engineer\n"
     ]
    },
    {
     "name": "stdout",
     "output_type": "stream",
     "text": [
      "sabari\n",
      "25\n",
      "software engineer\n"
     ]
    }
   ],
   "source": [
    "name=input(\"Enter your name:\")\n",
    "age=int(input(\"Enter your age:\"))\n",
    "Profession=input(\"Enter your profession:\")\n",
    "print(name)\n",
    "print(age)\n",
    "print(Profession)"
   ]
  },
  {
   "cell_type": "code",
   "execution_count": 33,
   "id": "b6724e41-a5ee-491f-b4b9-17a4d14aacb1",
   "metadata": {},
   "outputs": [
    {
     "name": "stdout",
     "output_type": "stream",
     "text": [
      "(1, 'Welcome', 2, 'Hope')\n"
     ]
    }
   ],
   "source": [
    "Tuple1 = (1, 'Welcome', 2, 'Hope')\n",
    "print(Tuple1)"
   ]
  },
  {
   "cell_type": "code",
   "execution_count": 47,
   "id": "b7e94bb1-fe74-4a4c-acb5-69bef8dd84b8",
   "metadata": {},
   "outputs": [
    {
     "name": "stdout",
     "output_type": "stream",
     "text": [
      "Tuple with nested tuples: \n",
      "((1, 2, 3, 4), ('python', 'Hope AI'))\n"
     ]
    }
   ],
   "source": [
    "Tuple1 = (1, 2,3,4)\n",
    "Tuple2 = ('python', 'Hope AI')\n",
    "Tuple3 = (Tuple1, Tuple2)\n",
    "print(\"Tuple with nested tuples: \")\n",
    "print(Tuple3)"
   ]
  },
  {
   "cell_type": "code",
   "execution_count": 81,
   "id": "47b8bdbe-8eb9-4b45-9f43-6de12055fa8b",
   "metadata": {},
   "outputs": [
    {
     "name": "stdout",
     "output_type": "stream",
     "text": [
      "19 is odd\n",
      "25 is odd\n",
      "1 is odd\n"
     ]
    }
   ],
   "source": [
    "list = [20,10,16,19,25,1,276,188]\n",
    "for num in list:\n",
    "    if num % 2 != 0:\n",
    "       print(num,\"is odd\")"
   ]
  },
  {
   "cell_type": "code",
   "execution_count": 87,
   "id": "2e556b1d-cc84-4b99-be1c-26bc2ddce9fa",
   "metadata": {},
   "outputs": [
    {
     "name": "stdout",
     "output_type": "stream",
     "text": [
      "20 is even\n",
      "10 is even\n",
      "16 is even\n",
      "276 is even\n",
      "188 is even\n"
     ]
    }
   ],
   "source": [
    "list = [20,10,16,19,25,1,276,188]\n",
    "for num in list:\n",
    "    if num % 2 == 0:\n",
    "       print(num,\"is even\")"
   ]
  },
  {
   "cell_type": "code",
   "execution_count": null,
   "id": "a54ba9bc-d00a-4816-95d4-7cf3c0751c2d",
   "metadata": {},
   "outputs": [],
   "source": []
  }
 ],
 "metadata": {
  "kernelspec": {
   "display_name": "Python 3 (ipykernel)",
   "language": "python",
   "name": "python3"
  },
  "language_info": {
   "codemirror_mode": {
    "name": "ipython",
    "version": 3
   },
   "file_extension": ".py",
   "mimetype": "text/x-python",
   "name": "python",
   "nbconvert_exporter": "python",
   "pygments_lexer": "ipython3",
   "version": "3.12.4"
  }
 },
 "nbformat": 4,
 "nbformat_minor": 5
}
