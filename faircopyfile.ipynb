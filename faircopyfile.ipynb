{
 "cells": [
  {
   "cell_type": "code",
   "execution_count": 5,
   "id": "6ffd1c7e-3c24-4a78-9056-a3608314c1a8",
   "metadata": {},
   "outputs": [],
   "source": [
    "from multipefunction import addtionalfunction\n",
    "#from filename import classname"
   ]
  },
  {
   "cell_type": "code",
   "execution_count": 7,
   "id": "fe5dcab2-33ba-41f0-8d5f-e75552512aa7",
   "metadata": {},
   "outputs": [
    {
     "name": "stdin",
     "output_type": "stream",
     "text": [
      "enter your gender male or female: male\n",
      "enter your age: 25\n"
     ]
    },
    {
     "name": "stdout",
     "output_type": "stream",
     "text": [
      "you are eligible for marriage\n"
     ]
    },
    {
     "data": {
      "text/plain": [
       "'you are eligible for marriage'"
      ]
     },
     "execution_count": 7,
     "metadata": {},
     "output_type": "execute_result"
    }
   ],
   "source": [
    "addtionalfunction . marriage()\n",
    "#callname . functionname"
   ]
  },
  {
   "cell_type": "code",
   "execution_count": 9,
   "id": "3f8c4008-516d-42d4-9c31-0bf98ff1655d",
   "metadata": {},
   "outputs": [
    {
     "name": "stdin",
     "output_type": "stream",
     "text": [
      "Enter a number: 25\n"
     ]
    },
    {
     "name": "stdout",
     "output_type": "stream",
     "text": [
      "25 number is odd\n"
     ]
    },
    {
     "data": {
      "text/plain": [
       "'number is odd'"
      ]
     },
     "execution_count": 9,
     "metadata": {},
     "output_type": "execute_result"
    }
   ],
   "source": [
    "addtionalfunction . oddeven()"
   ]
  },
  {
   "cell_type": "code",
   "execution_count": 11,
   "id": "832f4c43-808e-4456-a77b-5a3cb5f70727",
   "metadata": {},
   "outputs": [
    {
     "name": "stdin",
     "output_type": "stream",
     "text": [
      "Enter the BMI Index: 34\n"
     ]
    },
    {
     "name": "stdout",
     "output_type": "stream",
     "text": [
      "very heavy weight\n"
     ]
    },
    {
     "data": {
      "text/plain": [
       "'very heavy weight'"
      ]
     },
     "execution_count": 11,
     "metadata": {},
     "output_type": "execute_result"
    }
   ],
   "source": [
    "addtionalfunction . BMI()"
   ]
  },
  {
   "cell_type": "code",
   "execution_count": null,
   "id": "f4310f61-af55-45c0-b711-1e28b6eced1f",
   "metadata": {},
   "outputs": [],
   "source": []
  }
 ],
 "metadata": {
  "kernelspec": {
   "display_name": "Python 3 (ipykernel)",
   "language": "python",
   "name": "python3"
  },
  "language_info": {
   "codemirror_mode": {
    "name": "ipython",
    "version": 3
   },
   "file_extension": ".py",
   "mimetype": "text/x-python",
   "name": "python",
   "nbconvert_exporter": "python",
   "pygments_lexer": "ipython3",
   "version": "3.12.4"
  }
 },
 "nbformat": 4,
 "nbformat_minor": 5
}
