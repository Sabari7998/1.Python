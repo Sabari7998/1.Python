{
 "cells": [
  {
   "cell_type": "code",
   "execution_count": 1,
   "id": "87bacd90-caa6-4240-a2fd-f3a476f25a37",
   "metadata": {},
   "outputs": [
    {
     "name": "stdout",
     "output_type": "stream",
     "text": [
      "hello world\n"
     ]
    }
   ],
   "source": [
    "print(\"hello world\")"
   ]
  },
  {
   "cell_type": "code",
   "execution_count": 12,
   "id": "8d6d1406-2d67-47ee-be09-7cf7cfbd6775",
   "metadata": {},
   "outputs": [
    {
     "name": "stdin",
     "output_type": "stream",
     "text": [
      "enter first value: 10\n",
      "enter second value: 20\n"
     ]
    },
    {
     "name": "stdout",
     "output_type": "stream",
     "text": [
      "add 30\n"
     ]
    }
   ],
   "source": [
    "num1=int(input(\"enter first value:\"))\n",
    "num2=int(input(\"enter second value:\"))\n",
    "add=num1+num2\n",
    "print(\"add\",add)"
   ]
  },
  {
   "cell_type": "code",
   "execution_count": 24,
   "id": "a36aeac5-d38d-4d40-9f0b-1f3cd37fe387",
   "metadata": {},
   "outputs": [
    {
     "name": "stdin",
     "output_type": "stream",
     "text": [
      "Enter the BMI Index: 22\n"
     ]
    },
    {
     "name": "stdout",
     "output_type": "stream",
     "text": [
      "normal weight\n"
     ]
    }
   ],
   "source": [
    "def BMI():\n",
    "    user=int(input(\"Enter the BMI Index:\"))\n",
    "    if(user<19):\n",
    "        print(\"low weight\")\n",
    "        msg=(\"low weight\")\n",
    "    elif(user<25):\n",
    "        print(\"normal weight\")\n",
    "        msg=(\"normal weight\")\n",
    "    elif(user<29):\n",
    "        print(\"heavy weight\")\n",
    "        msg=(\"heavy weight\")\n",
    "    else:\n",
    "        print(\"very heavy weight\")\n",
    "        msg=(\"very heavy weight\")\n",
    "    return msg\n",
    "bmi=BMI()"
   ]
  },
  {
   "cell_type": "code",
   "execution_count": 26,
   "id": "3e9dfa44-b53b-44c4-a6c2-bee7b315ba7a",
   "metadata": {},
   "outputs": [
    {
     "name": "stdout",
     "output_type": "stream",
     "text": [
      "normal weight\n"
     ]
    }
   ],
   "source": [
    "print(bmi)"
   ]
  },
  {
   "cell_type": "code",
   "execution_count": null,
   "id": "c2658bfd-60ff-48f5-8798-50e0a0ed0c2c",
   "metadata": {},
   "outputs": [],
   "source": []
  }
 ],
 "metadata": {
  "kernelspec": {
   "display_name": "Python 3 (ipykernel)",
   "language": "python",
   "name": "python3"
  },
  "language_info": {
   "codemirror_mode": {
    "name": "ipython",
    "version": 3
   },
   "file_extension": ".py",
   "mimetype": "text/x-python",
   "name": "python",
   "nbconvert_exporter": "python",
   "pygments_lexer": "ipython3",
   "version": "3.12.4"
  }
 },
 "nbformat": 4,
 "nbformat_minor": 5
}
