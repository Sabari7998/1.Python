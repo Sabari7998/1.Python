{
 "cells": [
  {
   "cell_type": "code",
   "execution_count": 3,
   "id": "48ef08f9-b6e6-43e0-b7d1-d9232587c7ec",
   "metadata": {},
   "outputs": [
    {
     "name": "stdout",
     "output_type": "stream",
     "text": [
      "Hope AI\n"
     ]
    }
   ],
   "source": [
    "print(\"Hope AI\")"
   ]
  },
  {
   "cell_type": "code",
   "execution_count": 7,
   "id": "e79d6254-89d4-4008-95d4-1a1414a84304",
   "metadata": {},
   "outputs": [
    {
     "name": "stdin",
     "output_type": "stream",
     "text": [
      "Enter your institude name?: Hope ai\n"
     ]
    },
    {
     "name": "stdout",
     "output_type": "stream",
     "text": [
      "usr\n"
     ]
    }
   ],
   "source": [
    "usr=input(\"Enter your institude name?:\")\n",
    "print(\"usr\")"
   ]
  },
  {
   "cell_type": "code",
   "execution_count": null,
   "id": "1e798e57-7d37-41ba-81e8-50e8238c61be",
   "metadata": {},
   "outputs": [],
   "source": []
  },
  {
   "cell_type": "code",
   "execution_count": 23,
   "id": "d16ceb4a-d2ed-4d70-8d44-27e281677e9f",
   "metadata": {},
   "outputs": [
    {
     "name": "stdin",
     "output_type": "stream",
     "text": [
      "Enter your name: sabari\n",
      "Enter your age: 25\n",
      "Enter your school name: Fathima school\n",
      "enter your degree: BE \n"
     ]
    },
    {
     "name": "stdout",
     "output_type": "stream",
     "text": [
      "sabari\n",
      "25\n",
      "Fathima school\n",
      "BE \n"
     ]
    }
   ],
   "source": [
    "name=input(\"Enter your name:\")\n",
    "age=int(input(\"Enter your age:\"))\n",
    "school=input(\"Enter your school name:\")\n",
    "degree=input(\"enter your degree:\")\n",
    "print(name)\n",
    "print(age)\n",
    "print(school)\n",
    "print(degree)"
   ]
  },
  {
   "cell_type": "code",
   "execution_count": 25,
   "id": "6eb1b145-52e9-44a4-9f71-9528d7fd5a5a",
   "metadata": {},
   "outputs": [
    {
     "name": "stdin",
     "output_type": "stream",
     "text": [
      "enter first value: 2\n",
      "enter second value: 2\n"
     ]
    },
    {
     "name": "stdout",
     "output_type": "stream",
     "text": [
      "4\n"
     ]
    }
   ],
   "source": [
    "a=int(input(\"enter first value:\"))\n",
    "b=int(input(\"enter second value:\"))\n",
    "add=a+b\n",
    "print(add)"
   ]
  },
  {
   "cell_type": "code",
   "execution_count": 27,
   "id": "83e49adb-f0b6-4e76-af96-b2bce88a8f58",
   "metadata": {},
   "outputs": [
    {
     "name": "stdin",
     "output_type": "stream",
     "text": [
      "enter first value: 90\n",
      "enter second value: 40\n"
     ]
    },
    {
     "name": "stdout",
     "output_type": "stream",
     "text": [
      "50\n"
     ]
    }
   ],
   "source": [
    "a=int(input(\"enter first value:\"))\n",
    "b=int(input(\"enter second value:\"))\n",
    "add=a-b\n",
    "print(add)"
   ]
  },
  {
   "cell_type": "code",
   "execution_count": 29,
   "id": "2a70f0a4-ea98-4ee0-acdf-c0cfa25e40df",
   "metadata": {},
   "outputs": [
    {
     "name": "stdin",
     "output_type": "stream",
     "text": [
      "enter first value: 5\n",
      "enter second value: 2\n"
     ]
    },
    {
     "name": "stdout",
     "output_type": "stream",
     "text": [
      "10\n"
     ]
    }
   ],
   "source": [
    "a=int(input(\"enter first value:\"))\n",
    "b=int(input(\"enter second value:\"))\n",
    "Mul=a*b\n",
    "print(Mul)"
   ]
  },
  {
   "cell_type": "code",
   "execution_count": 35,
   "id": "64cb0307-575d-462a-8e53-cbd00b349fae",
   "metadata": {},
   "outputs": [
    {
     "name": "stdin",
     "output_type": "stream",
     "text": [
      "enter first value: 10\n",
      "enter second value: 2\n"
     ]
    },
    {
     "name": "stdout",
     "output_type": "stream",
     "text": [
      "5.0\n"
     ]
    }
   ],
   "source": [
    "a=int(input(\"enter first value:\"))\n",
    "b=int(input(\"enter second value:\"))\n",
    "dev=a/b\n",
    "print(dev)"
   ]
  },
  {
   "cell_type": "code",
   "execution_count": 43,
   "id": "4bf45d45-16ea-4101-83ca-284edf2ea3df",
   "metadata": {},
   "outputs": [
    {
     "name": "stdin",
     "output_type": "stream",
     "text": [
      "enter first value: 76\n",
      "enter second value: 31\n"
     ]
    },
    {
     "name": "stdout",
     "output_type": "stream",
     "text": [
      "Floor div 2\n"
     ]
    }
   ],
   "source": [
    "a=int(input(\"enter first value:\"))\n",
    "b=int(input(\"enter second value:\"))\n",
    "dev=a//b\n",
    "print(\"Floor div\",dev)"
   ]
  },
  {
   "cell_type": "code",
   "execution_count": 45,
   "id": "24adbcdd-fdfa-4f7c-9f08-a02efc870d14",
   "metadata": {},
   "outputs": [
    {
     "name": "stdin",
     "output_type": "stream",
     "text": [
      "enter first value: 76\n",
      "enter second value: 31\n"
     ]
    },
    {
     "name": "stdout",
     "output_type": "stream",
     "text": [
      "modulo 14\n"
     ]
    }
   ],
   "source": [
    "a=int(input(\"enter first value:\"))\n",
    "b=int(input(\"enter second value:\"))\n",
    "modulo=a%b\n",
    "print(\"modulo\",modulo)"
   ]
  },
  {
   "cell_type": "code",
   "execution_count": 49,
   "id": "6927eee4-4255-471b-bea2-e376b6f69ccc",
   "metadata": {},
   "outputs": [
    {
     "name": "stdout",
     "output_type": "stream",
     "text": [
      "power 256\n"
     ]
    }
   ],
   "source": [
    "x=pow(4,4)\n",
    "print(\"power\",x)"
   ]
  },
  {
   "cell_type": "code",
   "execution_count": 53,
   "id": "7553ebcd-53f8-4708-9527-d33313c6c62f",
   "metadata": {},
   "outputs": [
    {
     "name": "stdin",
     "output_type": "stream",
     "text": [
      "Enter a salary: 15000\n",
      "Enter a age: 26\n",
      "enter a loan amount: 25000\n"
     ]
    },
    {
     "name": "stdout",
     "output_type": "stream",
     "text": [
      "you are eligible for loan\n"
     ]
    }
   ],
   "source": [
    "salary=int(input(\"Enter a salary:\"))\n",
    "Age=int(input(\"Enter a age:\"))\n",
    "if(salary>=20000 or age<=25):\n",
    "    loan=int(input(\"enter a loan amount:\"))\n",
    "    if(loan<=50000):\n",
    "        print(\"you are eligible for loan\")\n",
    "    else:\n",
    "        print(\"max loan is 50000\")\n",
    "else:\n",
    "    print(\"you are not eligible for loan\")"
   ]
  },
  {
   "cell_type": "code",
   "execution_count": null,
   "id": "e200a90f-9eff-43fd-8389-9950b441fe6e",
   "metadata": {},
   "outputs": [],
   "source": []
  }
 ],
 "metadata": {
  "kernelspec": {
   "display_name": "Python 3 (ipykernel)",
   "language": "python",
   "name": "python3"
  },
  "language_info": {
   "codemirror_mode": {
    "name": "ipython",
    "version": 3
   },
   "file_extension": ".py",
   "mimetype": "text/x-python",
   "name": "python",
   "nbconvert_exporter": "python",
   "pygments_lexer": "ipython3",
   "version": "3.12.4"
  }
 },
 "nbformat": 4,
 "nbformat_minor": 5
}
